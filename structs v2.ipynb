{
 "metadata": {
  "language_info": {
   "codemirror_mode": {
    "name": "ipython",
    "version": 3
   },
   "file_extension": ".py",
   "mimetype": "text/x-python",
   "name": "python",
   "nbconvert_exporter": "python",
   "pygments_lexer": "ipython3",
   "version": "3.8.2"
  },
  "orig_nbformat": 2,
  "kernelspec": {
   "name": "python382jvsc74a57bd02db524e06e9f5f4ffedc911c917cb75e12dbc923643829bf417064a77eb14d37",
   "display_name": "Python 3.8.2 64-bit"
  },
  "metadata": {
   "interpreter": {
    "hash": "2db524e06e9f5f4ffedc911c917cb75e12dbc923643829bf417064a77eb14d37"
   }
  }
 },
 "nbformat": 4,
 "nbformat_minor": 2,
 "cells": [
  {
   "cell_type": "code",
   "execution_count": 1,
   "metadata": {},
   "outputs": [],
   "source": [
    "import numpy\n",
    "import random\n",
    "import timeit\n",
    "import copy"
   ]
  },
  {
   "cell_type": "code",
   "execution_count": 2,
   "metadata": {
    "tags": []
   },
   "outputs": [],
   "source": [
    "class sl_node:\n",
    "    def __init__(self, value):\n",
    "        self.value = value\n",
    "        self.next = None\n",
    "\n",
    "class sl_stack:\n",
    "    def __init__(self, value):\n",
    "        self.start = sl_node(value)\n",
    "    \n",
    "    def push(self, value):\n",
    "        if self.start is not None:\n",
    "            a = copy.copy(self.start)\n",
    "            self.start.value = value\n",
    "            self.start.next = a  \n",
    "        else:\n",
    "            self.__init__(value)\n",
    "\n",
    "    def display(self):\n",
    "        a = self.start\n",
    "        b = []\n",
    "        while a is not None:\n",
    "            b.append(a.value)\n",
    "            a = a.next\n",
    "        return b\n",
    "    \n",
    "    def remove(self):\n",
    "        if self.start is None:\n",
    "            raise IndexError(\"List is too short\")\n",
    "        val = self.start.value\n",
    "        self.start = self.start.next\n",
    "\n",
    "class sl_queue:\n",
    "    def __init__(self, value = None):\n",
    "        self.next = sl_node(value)\n",
    "    \n",
    "    def push(self, value):\n",
    "        a = self\n",
    "        while a.next is not None:\n",
    "            a = a.next\n",
    "        a.next = sl_node(value)\n",
    "\n",
    "    def display(self):\n",
    "        a = self.next\n",
    "        b = []\n",
    "        while a is not None:\n",
    "            b.append(a.value)\n",
    "            a = a.next\n",
    "        return b\n",
    "    \n",
    "    def remove(self):\n",
    "        if self.next is None:\n",
    "            raise IndexError(\"List is too short\")\n",
    "        val = self.next.value\n",
    "        self.next = self.next.next\n"
   ]
  },
  {
   "cell_type": "code",
   "execution_count": 3,
   "metadata": {},
   "outputs": [],
   "source": [
    "class dl_node:\n",
    "    def __init__(self, value, prev = None, nxt = None):\n",
    "        self.value = value\n",
    "        self.prev = prev\n",
    "        self.next = nxt\n",
    "\n",
    "class dl_queue:\n",
    "    def __init__(self, value):\n",
    "        self.next = dl_node(value, self, self)\n",
    "        self.head = True\n",
    "        self.prev = self.next\n",
    "\n",
    "    def display(self):\n",
    "        a = self\n",
    "        b = []\n",
    "        while not hasattr(a.next, \"head\"):\n",
    "            b.append(a.next.value)\n",
    "            a = a.next\n",
    "        return b\n",
    "    \n",
    "    def push(self, value):\n",
    "        if hasattr(self.next, \"head\"):\n",
    "            self.__init__(value)\n",
    "        else:\n",
    "            a = self.next\n",
    "            self.next = dl_node(value, self, a)\n",
    "            self.next.next.prev = self.next\n",
    "        \n",
    "    def remove(self):\n",
    "        if hasattr(self.prev, \"head\"):\n",
    "            raise IndexError(\"List length of 0\")\n",
    "        else:\n",
    "            val = self.prev.value\n",
    "            self.prev.prev.next = self\n",
    "            self.prev = self.prev.prev\n",
    "            return val"
   ]
  }
 ]
}