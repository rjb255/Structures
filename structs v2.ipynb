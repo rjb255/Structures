{
 "metadata": {
  "language_info": {
   "codemirror_mode": {
    "name": "ipython",
    "version": 3
   },
   "file_extension": ".py",
   "mimetype": "text/x-python",
   "name": "python",
   "nbconvert_exporter": "python",
   "pygments_lexer": "ipython3",
   "version": "3.8.2"
  },
  "orig_nbformat": 2,
  "kernelspec": {
   "name": "python382jvsc74a57bd02db524e06e9f5f4ffedc911c917cb75e12dbc923643829bf417064a77eb14d37",
   "display_name": "Python 3.8.2 64-bit"
  },
  "metadata": {
   "interpreter": {
    "hash": "2db524e06e9f5f4ffedc911c917cb75e12dbc923643829bf417064a77eb14d37"
   }
  }
 },
 "nbformat": 4,
 "nbformat_minor": 2,
 "cells": [
  {
   "cell_type": "code",
   "execution_count": 1,
   "metadata": {},
   "outputs": [],
   "source": [
    "import numpy\n",
    "import random\n",
    "import timeit\n",
    "import copy"
   ]
  },
  {
   "cell_type": "code",
   "execution_count": 85,
   "metadata": {
    "tags": []
   },
   "outputs": [
    {
     "output_type": "stream",
     "name": "stdout",
     "text": [
      "[4]\n[4, 15, 5, 9]\n[]\n[9]\n[9]\n"
     ]
    }
   ],
   "source": [
    "class sl_node:\n",
    "    def __init__(self, value):\n",
    "        self.value = value\n",
    "        self.next = None\n",
    "\n",
    "class sl_stack:\n",
    "    def __init__(self, value):\n",
    "        self.start = sl_node(value)\n",
    "    \n",
    "    def push(self, value):\n",
    "        if self.start is not None:\n",
    "            a = copy.copy(self.start)\n",
    "            self.start.value = value\n",
    "            self.start.next = a  \n",
    "        else:\n",
    "            self.__init__(value)\n",
    "\n",
    "    def display(self):\n",
    "        a = self.start\n",
    "        b = []\n",
    "        while a is not None:\n",
    "            b.append(a.value)\n",
    "            a = a.next\n",
    "        return b\n",
    "    \n",
    "    def remove(self):\n",
    "        if self.start is None:\n",
    "            raise IndexError(\"List is too short\")\n",
    "        val = self.start.value\n",
    "        self.start = self.start.next\n",
    "\n",
    "class sl_queue:\n",
    "    def __init__(self, value = None):\n",
    "        self.next = sl_node(value)\n",
    "    \n",
    "    def push(self, value):\n",
    "        a = self\n",
    "        while a.next is not None:\n",
    "            a = a.next\n",
    "        a.next = sl_node(value)\n",
    "\n",
    "    def display(self):\n",
    "        a = self.next\n",
    "        b = []\n",
    "        while a is not None:\n",
    "            b.append(a.value)\n",
    "            a = a.next\n",
    "        return b\n",
    "    \n",
    "    def remove(self):\n",
    "        if self.next is None:\n",
    "            raise IndexError(\"List is too short\")\n",
    "        val = self.next.value\n",
    "        self.next = self.next.next\n"
   ]
  },
  {
   "cell_type": "code",
   "execution_count": 134,
   "metadata": {},
   "outputs": [
    {
     "output_type": "execute_result",
     "data": {
      "text/plain": [
       "[9]"
      ]
     },
     "metadata": {},
     "execution_count": 134
    }
   ],
   "source": [
    "class dl_node:\n",
    "    def __init__(self, value, prev = None, nxt = None):\n",
    "        self.value = value\n",
    "        self.prev = prev\n",
    "        self.next = nxt\n",
    "\n",
    "class dl_queue:\n",
    "    def __init__(self, value):\n",
    "        self.next = dl_node(value, self, self)\n",
    "        self.head = True\n",
    "        self.prev = self.next\n",
    "\n",
    "    def display(self):\n",
    "        a = self\n",
    "        b = []\n",
    "        while not hasattr(a.next, \"head\"):\n",
    "            b.append(a.next.value)\n",
    "            a = a.next\n",
    "        return b\n",
    "    \n",
    "    def push(self, value):\n",
    "        if hasattr(self.next, \"head\"):\n",
    "            self.__init__(value)\n",
    "        else:\n",
    "            a = self.next\n",
    "            self.next = dl_node(value, self, a)\n",
    "            self.next.next.prev = self.next\n",
    "        \n",
    "    def remove(self):\n",
    "        if hasattr(self.prev, \"head\"):\n",
    "            raise IndexError(\"List length of 0\")\n",
    "        else:\n",
    "            val = self.prev.value\n",
    "            self.prev.prev.next = self\n",
    "            self.prev = self.prev.prev\n",
    "            return val"
   ]
  },
  {
   "cell_type": "code",
   "execution_count": 4,
   "metadata": {},
   "outputs": [],
   "source": []
  },
  {
   "cell_type": "code",
   "execution_count": 5,
   "metadata": {},
   "outputs": [],
   "source": []
  },
  {
   "cell_type": "code",
   "execution_count": 6,
   "metadata": {},
   "outputs": [],
   "source": []
  },
  {
   "cell_type": "code",
   "execution_count": 7,
   "metadata": {},
   "outputs": [],
   "source": []
  },
  {
   "cell_type": "code",
   "execution_count": 11,
   "metadata": {},
   "outputs": [
    {
     "output_type": "stream",
     "name": "stdout",
     "text": [
      "2.4615042999998878e-06\n",
      "2.718289299999924e-06\n",
      "0.9481287229999998\n",
      "3.6256489000002147e-06\n"
     ]
    }
   ],
   "source": [
    "samplelst = [8, 12, 12, 54, 133, \"abs\", \"cbd\"] * 100000\n",
    "\n",
    "sq = single_queue(samplelst)\n",
    "dq = double_queue(samplelst)\n",
    "count1 = int(1e6)\n",
    "count2 = int(1e2)\n",
    "t1 = timeit.Timer(\"sq.push(14)\", globals = globals())\n",
    "t2 = timeit.Timer(\"dq.push(14)\", globals = globals())\n",
    "\n",
    "t3 = timeit.Timer(\"sq.take()\", globals = globals())\n",
    "t4 = timeit.Timer(\"dq.take()\", globals = globals())\n",
    "\n",
    "print(t1.timeit(count1)/count1)\n",
    "print(t2.timeit(count1)/count1)\n",
    "\n",
    "print(t3.timeit(count2)/count2)\n",
    "print(t4.timeit(count1)/count1)"
   ]
  }
 ]
}